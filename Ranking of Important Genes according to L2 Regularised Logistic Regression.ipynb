{
 "cells": [
  {
   "cell_type": "markdown",
   "metadata": {},
   "source": [
    "# Appendix B"
   ]
  },
  {
   "cell_type": "markdown",
   "metadata": {},
   "source": [
    "## Import Libraries"
   ]
  },
  {
   "cell_type": "code",
   "execution_count": 1,
   "metadata": {},
   "outputs": [],
   "source": [
    "import pandas as pd\n",
    "import numpy as np\n",
    "import matplotlib.pyplot as plt\n",
    "import seaborn as sns\n",
    "import warnings\n",
    "warnings.filterwarnings(\"ignore\")\n",
    "\n",
    "from sklearn.ensemble import RandomForestClassifier\n",
    "from sklearn.model_selection import train_test_split\n",
    "from sklearn.metrics import accuracy_score, confusion_matrix, classification_report\n",
    "from sklearn import preprocessing\n",
    "from sklearn.linear_model import LogisticRegression\n",
    "from sklearn.metrics import f1_score\n",
    "from sklearn.metrics import confusion_matrix\n",
    "from sklearn.metrics import recall_score \n",
    "from sklearn.metrics import precision_score  \n",
    "from sklearn.metrics import roc_auc_score \n",
    "from sklearn.metrics import roc_curve \n",
    "from sklearn.metrics import classification_report\n",
    "from sklearn import metrics\n",
    "\n",
    "\n",
    "%matplotlib inline\n",
    "sns.set_context('notebook') "
   ]
  },
  {
   "cell_type": "markdown",
   "metadata": {},
   "source": [
    "# Load Dataset (987 genes associated with Gemcitabine Response)"
   ]
  },
  {
   "cell_type": "code",
   "execution_count": 2,
   "metadata": {},
   "outputs": [
    {
     "name": "stdout",
     "output_type": "stream",
     "text": [
      "(57, 988)\n"
     ]
    }
   ],
   "source": [
    "data = pd.read_csv(\"900 amp and del from fisher exact.csv\")\n",
    "print(data.shape)\n",
    "# data.head()"
   ]
  },
  {
   "cell_type": "code",
   "execution_count": 3,
   "metadata": {},
   "outputs": [],
   "source": [
    "seed = 0"
   ]
  },
  {
   "cell_type": "code",
   "execution_count": 4,
   "metadata": {},
   "outputs": [],
   "source": [
    "threshold = 0.47"
   ]
  },
  {
   "cell_type": "code",
   "execution_count": 5,
   "metadata": {},
   "outputs": [
    {
     "name": "stdout",
     "output_type": "stream",
     "text": [
      "<class 'numpy.ndarray'>\n",
      "(57, 987)\n",
      "<class 'numpy.ndarray'>\n",
      "[0 0 0 0 0 0 0 0 0 0 0 0 0 0 0 0 0 0 0 0 0 0 0 0 0 0 0 0 0 0 0 0 0 1 1 1 1\n",
      " 1 1 1 1 1 1 1 1 1 1 1 1 1 1 1 1 1 1 1 1]\n",
      "(45, 987)\n",
      "(12, 987)\n",
      "(45,)\n",
      "(12,)\n"
     ]
    }
   ],
   "source": [
    "from sklearn.model_selection import train_test_split\n",
    "\n",
    "# try to use only important quantitative columns + binary columns\n",
    "## define x_topf and y_topf\n",
    "X= data.iloc[:,1:].values\n",
    "print(type(X))\n",
    "print(X.shape)\n",
    "\n",
    "y = data.iloc[:,0].values\n",
    "print(type(y))\n",
    "print(y)\n",
    "\n",
    "\n",
    "# create x_train and y_label\n",
    "X_train,X_val,y_train,y_val = train_test_split(X, y,train_size=0.8, random_state=0,stratify=y)\n",
    "\n",
    "\n",
    "print(X_train.shape)\n",
    "print(X_val.shape)\n",
    "print(y_train.shape)\n",
    "print(y_val.shape)"
   ]
  },
  {
   "cell_type": "markdown",
   "metadata": {},
   "source": [
    "# L2 Regularised Logistic Regression"
   ]
  },
  {
   "cell_type": "code",
   "execution_count": 13,
   "metadata": {},
   "outputs": [
    {
     "name": "stdout",
     "output_type": "stream",
     "text": [
      "LogisticRegression(C=1.0, class_weight='balanced', dual=False,\n",
      "                   fit_intercept=True, intercept_scaling=1, l1_ratio=None,\n",
      "                   max_iter=100, multi_class='warn', n_jobs=None, penalty='l2',\n",
      "                   random_state=None, solver='warn', tol=0.0001, verbose=0,\n",
      "                   warm_start=False)\n"
     ]
    }
   ],
   "source": [
    "from sklearn.linear_model import LogisticRegression\n",
    "from sklearn.linear_model import LogisticRegressionCV\n",
    "\n",
    "# Logistic regression\n",
    "logit_l2 = LogisticRegressionCV(Cs=10, class_weight='balanced', cv='warn', dual=False,\n",
    "                     fit_intercept=True, intercept_scaling=1.0, l1_ratios=None,\n",
    "                     max_iter=100, multi_class='warn', n_jobs=None,\n",
    "                     penalty='l2', random_state=None, refit=True, scoring=None,\n",
    "                     solver='lbfgs', tol=0.0001, verbose=0)\n",
    "logit_l2.fit(X_train, y_train)\n",
    "print(logit)"
   ]
  },
  {
   "cell_type": "code",
   "execution_count": 15,
   "metadata": {},
   "outputs": [
    {
     "name": "stdout",
     "output_type": "stream",
     "text": [
      "=======================\n",
      "LogisticRegressionCV(Cs=10, class_weight='balanced', cv='warn', dual=False,\n",
      "                     fit_intercept=True, intercept_scaling=1.0, l1_ratios=None,\n",
      "                     max_iter=100, multi_class='warn', n_jobs=None,\n",
      "                     penalty='l2', random_state=None, refit=True, scoring=None,\n",
      "                     solver='lbfgs', tol=0.0001, verbose=0)\n",
      "--------------\n",
      "[[4 3]\n",
      " [1 4]]\n",
      "              precision    recall  f1-score   support\n",
      "\n",
      "           0       0.80      0.57      0.67         7\n",
      "           1       0.57      0.80      0.67         5\n",
      "\n",
      "    accuracy                           0.67        12\n",
      "   macro avg       0.69      0.69      0.67        12\n",
      "weighted avg       0.70      0.67      0.67        12\n",
      "\n",
      "auc = 0.771\n",
      "f1 score = 0.6666666666666666\n",
      "[[0.67144102 0.32855898]\n",
      " [0.62656911 0.37343089]\n",
      " [0.5102885  0.4897115 ]\n",
      " [0.5102885  0.4897115 ]\n",
      " [0.51078937 0.48921063]\n",
      " [0.54220644 0.45779356]\n",
      " [0.5147606  0.4852394 ]\n",
      " [0.52713865 0.47286135]\n",
      " [0.5102885  0.4897115 ]\n",
      " [0.71516456 0.28483544]\n",
      " [0.68265423 0.31734577]\n",
      " [0.67998291 0.32001709]]\n",
      "[0 0 1 1 1 1 1 1 1 0 0 0]\n",
      "[0 1 1 1 0 0 1 1 0 0 0 0]\n"
     ]
    }
   ],
   "source": [
    "for mylogitmodel in [logit_l2]:\n",
    "    print(\"=======================\")\n",
    "    print(mylogitmodel)\n",
    "    print(\"--------------\")\n",
    "    y_prob_lg = mylogitmodel.predict_proba(X_val)\n",
    "    y_pred_lg =(y_prob_lg[:,1]>0.45).astype(int)\n",
    "    print( confusion_matrix(y_val, y_pred_lg) )\n",
    "    print(classification_report(y_val, y_pred_lg))\n",
    "    auc_lg=roc_auc_score(y_val, y_prob_lg[:,1]).round(3)\n",
    "    print(\"auc = {}\".format(auc_lg))\n",
    "    print(\"f1 score = {}\".format(f1_score(y_val, y_pred_lg)))\n",
    "    print(y_prob_lg)\n",
    "    print(y_pred_lg)\n",
    "    print(y_val)"
   ]
  },
  {
   "cell_type": "code",
   "execution_count": 16,
   "metadata": {},
   "outputs": [
    {
     "data": {
      "text/html": [
       "<div>\n",
       "<style scoped>\n",
       "    .dataframe tbody tr th:only-of-type {\n",
       "        vertical-align: middle;\n",
       "    }\n",
       "\n",
       "    .dataframe tbody tr th {\n",
       "        vertical-align: top;\n",
       "    }\n",
       "\n",
       "    .dataframe thead th {\n",
       "        text-align: right;\n",
       "    }\n",
       "</style>\n",
       "<table border=\"1\" class=\"dataframe\">\n",
       "  <thead>\n",
       "    <tr style=\"text-align: right;\">\n",
       "      <th></th>\n",
       "      <th>Iteration</th>\n",
       "      <th>F1 Score</th>\n",
       "      <th>Accuracy</th>\n",
       "      <th>Precision</th>\n",
       "      <th>Recall</th>\n",
       "      <th>AUC</th>\n",
       "    </tr>\n",
       "  </thead>\n",
       "  <tbody>\n",
       "    <tr>\n",
       "      <th>0</th>\n",
       "      <td>1</td>\n",
       "      <td>0.5714</td>\n",
       "      <td>0.7273</td>\n",
       "      <td>1.0000</td>\n",
       "      <td>0.4000</td>\n",
       "      <td>0.9500</td>\n",
       "    </tr>\n",
       "    <tr>\n",
       "      <th>1</th>\n",
       "      <td>2</td>\n",
       "      <td>0.6667</td>\n",
       "      <td>0.8182</td>\n",
       "      <td>1.0000</td>\n",
       "      <td>0.5000</td>\n",
       "      <td>0.8929</td>\n",
       "    </tr>\n",
       "    <tr>\n",
       "      <th>2</th>\n",
       "      <td>3</td>\n",
       "      <td>0.7500</td>\n",
       "      <td>0.8182</td>\n",
       "      <td>1.0000</td>\n",
       "      <td>0.6000</td>\n",
       "      <td>0.8333</td>\n",
       "    </tr>\n",
       "    <tr>\n",
       "      <th>3</th>\n",
       "      <td>4</td>\n",
       "      <td>1.0000</td>\n",
       "      <td>1.0000</td>\n",
       "      <td>1.0000</td>\n",
       "      <td>1.0000</td>\n",
       "      <td>1.0000</td>\n",
       "    </tr>\n",
       "    <tr>\n",
       "      <th>4</th>\n",
       "      <td>5</td>\n",
       "      <td>0.7500</td>\n",
       "      <td>0.8182</td>\n",
       "      <td>0.7500</td>\n",
       "      <td>0.7500</td>\n",
       "      <td>0.8750</td>\n",
       "    </tr>\n",
       "    <tr>\n",
       "      <th>5</th>\n",
       "      <td>6</td>\n",
       "      <td>0.7500</td>\n",
       "      <td>0.8182</td>\n",
       "      <td>1.0000</td>\n",
       "      <td>0.6000</td>\n",
       "      <td>0.9333</td>\n",
       "    </tr>\n",
       "    <tr>\n",
       "      <th>6</th>\n",
       "      <td>7</td>\n",
       "      <td>1.0000</td>\n",
       "      <td>1.0000</td>\n",
       "      <td>1.0000</td>\n",
       "      <td>1.0000</td>\n",
       "      <td>1.0000</td>\n",
       "    </tr>\n",
       "    <tr>\n",
       "      <th>7</th>\n",
       "      <td>8</td>\n",
       "      <td>0.5000</td>\n",
       "      <td>0.8182</td>\n",
       "      <td>0.5000</td>\n",
       "      <td>0.5000</td>\n",
       "      <td>0.8333</td>\n",
       "    </tr>\n",
       "    <tr>\n",
       "      <th>8</th>\n",
       "      <td>9</td>\n",
       "      <td>0.8889</td>\n",
       "      <td>0.9091</td>\n",
       "      <td>1.0000</td>\n",
       "      <td>0.8000</td>\n",
       "      <td>0.9833</td>\n",
       "    </tr>\n",
       "    <tr>\n",
       "      <th>9</th>\n",
       "      <td>10</td>\n",
       "      <td>0.3333</td>\n",
       "      <td>0.6364</td>\n",
       "      <td>0.3333</td>\n",
       "      <td>0.3333</td>\n",
       "      <td>0.6250</td>\n",
       "    </tr>\n",
       "    <tr>\n",
       "      <th>10</th>\n",
       "      <td>Average</td>\n",
       "      <td>0.7210</td>\n",
       "      <td>0.8364</td>\n",
       "      <td>0.8583</td>\n",
       "      <td>0.6483</td>\n",
       "      <td>0.8926</td>\n",
       "    </tr>\n",
       "  </tbody>\n",
       "</table>\n",
       "</div>"
      ],
      "text/plain": [
       "   Iteration  F1 Score  Accuracy  Precision  Recall     AUC\n",
       "0          1    0.5714    0.7273     1.0000  0.4000  0.9500\n",
       "1          2    0.6667    0.8182     1.0000  0.5000  0.8929\n",
       "2          3    0.7500    0.8182     1.0000  0.6000  0.8333\n",
       "3          4    1.0000    1.0000     1.0000  1.0000  1.0000\n",
       "4          5    0.7500    0.8182     0.7500  0.7500  0.8750\n",
       "5          6    0.7500    0.8182     1.0000  0.6000  0.9333\n",
       "6          7    1.0000    1.0000     1.0000  1.0000  1.0000\n",
       "7          8    0.5000    0.8182     0.5000  0.5000  0.8333\n",
       "8          9    0.8889    0.9091     1.0000  0.8000  0.9833\n",
       "9         10    0.3333    0.6364     0.3333  0.3333  0.6250\n",
       "10   Average    0.7210    0.8364     0.8583  0.6483  0.8926"
      ]
     },
     "execution_count": 16,
     "metadata": {},
     "output_type": "execute_result"
    }
   ],
   "source": [
    "numiterations = 10\n",
    "threshold = 0.50\n",
    "listf1scores = []\n",
    "listprecision = []\n",
    "listrecall = []\n",
    "listaccuracy = []\n",
    "listauc = []\n",
    "listrownames = []\n",
    "nsamples = len(X)\n",
    "totaltosample = int(0.2*(nsamples))\n",
    "df_final = data\n",
    "for i in range(numiterations):\n",
    "    listrownames.append(i+1)\n",
    "    df_boot = df_final.iloc[np.random.randint(nsamples, size=totaltosample),:]\n",
    "    X_boot = df_boot.iloc[:,1:].values\n",
    "    y_val_final = df_boot.iloc[:,0].values\n",
    "    y_pred_prob = logit_l2.predict_proba(X_boot)\n",
    "    y_pred =(y_pred_prob[:,1]>threshold).astype(int)\n",
    "    listf1scores.append(f1_score(y_val_final, y_pred).round(4))\n",
    "    listaccuracy.append(accuracy_score(y_val_final, y_pred).round(4))\n",
    "    listprecision.append(precision_score(y_val_final, y_pred).round(4))\n",
    "    listrecall.append(recall_score(y_val_final, y_pred).round(4))\n",
    "    listauc.append(roc_auc_score(y_val_final, y_pred_prob[:,1]).round(4))\n",
    "    \n",
    "listf1scores.append(np.mean(listf1scores).round(4))\n",
    "listaccuracy.append(np.mean(listaccuracy).round(4))\n",
    "listprecision.append(np.mean(listprecision).round(4))\n",
    "listrecall.append(np.mean(listrecall).round(4))\n",
    "listauc.append(np.mean(listauc).round(4))\n",
    "listrownames.append(\"Average\")\n",
    "df_results = pd.DataFrame(columns=[\"Iteration\",\"F1 Score\",\"Accuracy\",\"Precision\",\"Recall\"])\n",
    "df_results[\"Iteration\"] = listrownames # [1,2,3,4,5,6,7,8,9,10,\"Average\"]\n",
    "df_results[\"F1 Score\"] = listf1scores\n",
    "df_results[\"Accuracy\"] = listaccuracy\n",
    "df_results[\"Precision\"] = listprecision\n",
    "df_results[\"Recall\"] = listrecall\n",
    "df_results[\"AUC\"] = listauc\n",
    "\n",
    "# display the results table\n",
    "df_results"
   ]
  },
  {
   "cell_type": "markdown",
   "metadata": {},
   "source": [
    "## Ranking of Important Genes according to L2 Regularised Logistic Regression"
   ]
  },
  {
   "cell_type": "code",
   "execution_count": 27,
   "metadata": {},
   "outputs": [],
   "source": [
    "weightvals = (np.std(X_train,0)*logit_l2.coef_)\n",
    "absweightvals = abs(weightvals)"
   ]
  },
  {
   "cell_type": "code",
   "execution_count": 28,
   "metadata": {},
   "outputs": [],
   "source": [
    "featurecols_final = data.iloc[:,1:].columns"
   ]
  },
  {
   "cell_type": "code",
   "execution_count": 29,
   "metadata": {},
   "outputs": [
    {
     "data": {
      "text/plain": [
       "Index(['PHOX2B', 'LINC00682', 'TMEM33', 'DCAF4L1', 'SLC30A9', 'BEND4',\n",
       "       'SHISA3', 'ATP8A1', 'GRXCR1', 'RN7SKP82',\n",
       "       ...\n",
       "       'SMIM9', 'SNORA36A', 'SNORA56', 'TMLHE', 'VBP1',\n",
       "       'IL9R|ENSG00000124334.12', 'SPRY3|ENSG00000168939.6',\n",
       "       'VAMP7|ENSG00000124333.10', 'WASH6P|ENSG00000182484.10',\n",
       "       'WASIR1|ENSG00000185203.7'],\n",
       "      dtype='object', length=987)"
      ]
     },
     "execution_count": 29,
     "metadata": {},
     "output_type": "execute_result"
    }
   ],
   "source": [
    "featurecols_final "
   ]
  },
  {
   "cell_type": "code",
   "execution_count": 22,
   "metadata": {},
   "outputs": [
    {
     "data": {
      "text/plain": [
       "COMMD8     0.179743\n",
       "CD4        0.138121\n",
       "CXorf64    0.128229\n",
       "RAB21      0.080626\n",
       "LGR5       0.080626\n",
       "             ...   \n",
       "GPR4       0.000296\n",
       "OPA3       0.000296\n",
       "VASP       0.000296\n",
       "PPM1N      0.000296\n",
       "ZNF222     0.000296\n",
       "Length: 987, dtype: float64"
      ]
     },
     "execution_count": 22,
     "metadata": {},
     "output_type": "execute_result"
    }
   ],
   "source": [
    "featureweightseries = pd.Series(data=absweightvals[0],index=featurecols_final)\n",
    "featureweightseries.sort_values(ascending=False, inplace=True)\n",
    "featureweightseries"
   ]
  }
 ],
 "metadata": {
  "kernelspec": {
   "display_name": "Python 3",
   "language": "python",
   "name": "python3"
  },
  "language_info": {
   "codemirror_mode": {
    "name": "ipython",
    "version": 3
   },
   "file_extension": ".py",
   "mimetype": "text/x-python",
   "name": "python",
   "nbconvert_exporter": "python",
   "pygments_lexer": "ipython3",
   "version": "3.6.9"
  }
 },
 "nbformat": 4,
 "nbformat_minor": 2
}
